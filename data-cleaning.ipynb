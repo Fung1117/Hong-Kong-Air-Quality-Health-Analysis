{
 "cells": [
  {
   "cell_type": "code",
   "execution_count": 1,
   "id": "7ad6b90e-682d-40d8-a76d-41f72ff994d3",
   "metadata": {},
   "outputs": [],
   "source": [
    "import pandas as pd\n",
    "import numpy as np"
   ]
  },
  {
   "cell_type": "code",
   "execution_count": 2,
   "id": "4dc5ad21-1cb4-4e67-ada9-2f19453c1e2e",
   "metadata": {},
   "outputs": [],
   "source": [
    "# Define a mapping of filenames to district names\n",
    "district_mapping = {\n",
    "    'datasets/causeway-bay-air-quality.csv': 'Wan Chai',\n",
    "    'datasets/central_western-air-quality.csv': 'Central and Western',\n",
    "    'datasets/eastern-air-quality.csv': 'Eastern',\n",
    "    'datasets/kwai-chung-air-quality.csv': 'Kwai Tsing',\n",
    "    'datasets/kwun-tong-air-quality.csv': 'Kwun Tong',\n",
    "    'datasets/mong-kok-air-quality.csv': 'Yau Tsim Mong',\n",
    "    'datasets/north-air-quality.csv': 'North',\n",
    "    'datasets/sha-tin-air-quality.csv': 'Sha Tin',\n",
    "    'datasets/sham-shui-po-air-quality.csv': 'Sham Shui Po',\n",
    "    'datasets/southern-air-quality.csv': 'Southern',\n",
    "    'datasets/tai-po-air-quality.csv': 'Tai Po',\n",
    "    'datasets/tseung-kwan-o-air-quality.csv': 'Sai Kung',\n",
    "    'datasets/tsuen-wan-air-quality.csv': 'Tsuen Wan',\n",
    "    'datasets/tuen-mun-air-quality.csv':'Tuen Mun',\n",
    "    'datasets/yuen-long-air-quality.csv': 'Yuen Long',\n",
    "}"
   ]
  },
  {
   "cell_type": "code",
   "execution_count": 3,
   "id": "7f130dcc-757c-4aa6-a633-d49eab3c983b",
   "metadata": {},
   "outputs": [
    {
     "data": {
      "text/plain": [
       "dict_keys(['causeway-bay-air-quality.csv', 'central_western-air-quality.csv', 'eastern-air-quality.csv', 'kwai-chung-air-quality.csv', 'kwun-tong-air-quality.csv', 'mong-kok-air-quality.csv', 'north-air-quality.csv', 'sha-tin-air-quality.csv', 'sham-shui-po-air-quality.csv', 'southern-air-quality.csv', 'tai-po-air-quality.csv', 'tseung-kwan-o-air-quality.csv', 'tsuen-wan-air-quality.csv', 'tuen-mun-air-quality.csv', 'yuen-long-air-quality.csv'])"
      ]
     },
     "execution_count": 3,
     "metadata": {},
     "output_type": "execute_result"
    }
   ],
   "source": [
    "# List of CSV filenames to process\n",
    "file_names = district_mapping.keys()\n",
    "file_names"
   ]
  },
  {
   "cell_type": "code",
   "execution_count": 4,
   "id": "46aae21b-1b82-4fb2-825b-b31db8f3277d",
   "metadata": {},
   "outputs": [],
   "source": [
    "all_data = []"
   ]
  },
  {
   "cell_type": "code",
   "execution_count": 5,
   "id": "b3e54976-87aa-40f1-ba67-250b173c0bb0",
   "metadata": {},
   "outputs": [],
   "source": [
    "for file_name in file_names:\n",
    "    # Read the CSV file\n",
    "    df = pd.read_csv(file_name)\n",
    "\n",
    "    essential_columns = df.columns[:5].tolist() \n",
    "    \n",
    "    # Add the district name column\n",
    "    district_name = district_mapping[file_name]\n",
    "    df['district'] = district_name\n",
    "\n",
    "    df.dropna(subset=essential_columns, inplace=True)\n",
    "    df.dropna(inplace=True)\n",
    "\n",
    "    columns_to_keep = df.columns[:5].tolist() + ['district']\n",
    "    df = df[columns_to_keep]\n",
    "\n",
    "    all_data.append(df)"
   ]
  },
  {
   "cell_type": "code",
   "execution_count": 6,
   "id": "7386442b-ebdb-464a-b8a7-5e59b74043e3",
   "metadata": {},
   "outputs": [
    {
     "data": {
      "text/plain": [
       "['date', ' pm25', ' pm10', ' o3', ' no2', 'district']"
      ]
     },
     "execution_count": 6,
     "metadata": {},
     "output_type": "execute_result"
    }
   ],
   "source": [
    "columns_to_keep"
   ]
  },
  {
   "cell_type": "code",
   "execution_count": 7,
   "id": "5fc598d2-68cb-484f-aecf-90955082be63",
   "metadata": {},
   "outputs": [
    {
     "data": {
      "text/html": [
       "<div>\n",
       "<style scoped>\n",
       "    .dataframe tbody tr th:only-of-type {\n",
       "        vertical-align: middle;\n",
       "    }\n",
       "\n",
       "    .dataframe tbody tr th {\n",
       "        vertical-align: top;\n",
       "    }\n",
       "\n",
       "    .dataframe thead th {\n",
       "        text-align: right;\n",
       "    }\n",
       "</style>\n",
       "<table border=\"1\" class=\"dataframe\">\n",
       "  <thead>\n",
       "    <tr style=\"text-align: right;\">\n",
       "      <th></th>\n",
       "      <th>date</th>\n",
       "      <th>pm25</th>\n",
       "      <th>pm10</th>\n",
       "      <th>o3</th>\n",
       "      <th>no2</th>\n",
       "      <th>district</th>\n",
       "    </tr>\n",
       "  </thead>\n",
       "  <tbody>\n",
       "    <tr>\n",
       "      <th>0</th>\n",
       "      <td>2024/11/1</td>\n",
       "      <td>71</td>\n",
       "      <td>29</td>\n",
       "      <td>17</td>\n",
       "      <td>34</td>\n",
       "      <td>Wan Chai</td>\n",
       "    </tr>\n",
       "    <tr>\n",
       "      <th>1</th>\n",
       "      <td>2024/11/2</td>\n",
       "      <td>69</td>\n",
       "      <td>33</td>\n",
       "      <td>26</td>\n",
       "      <td>29</td>\n",
       "      <td>Wan Chai</td>\n",
       "    </tr>\n",
       "    <tr>\n",
       "      <th>2</th>\n",
       "      <td>2024/11/3</td>\n",
       "      <td>71</td>\n",
       "      <td>46</td>\n",
       "      <td>39</td>\n",
       "      <td>32</td>\n",
       "      <td>Wan Chai</td>\n",
       "    </tr>\n",
       "    <tr>\n",
       "      <th>3</th>\n",
       "      <td>2024/11/4</td>\n",
       "      <td>95</td>\n",
       "      <td>42</td>\n",
       "      <td>27</td>\n",
       "      <td>35</td>\n",
       "      <td>Wan Chai</td>\n",
       "    </tr>\n",
       "    <tr>\n",
       "      <th>4</th>\n",
       "      <td>2024/11/5</td>\n",
       "      <td>94</td>\n",
       "      <td>48</td>\n",
       "      <td>34</td>\n",
       "      <td>36</td>\n",
       "      <td>Wan Chai</td>\n",
       "    </tr>\n",
       "    <tr>\n",
       "      <th>...</th>\n",
       "      <td>...</td>\n",
       "      <td>...</td>\n",
       "      <td>...</td>\n",
       "      <td>...</td>\n",
       "      <td>...</td>\n",
       "      <td>...</td>\n",
       "    </tr>\n",
       "    <tr>\n",
       "      <th>52479</th>\n",
       "      <td>2015/3/31</td>\n",
       "      <td></td>\n",
       "      <td></td>\n",
       "      <td>11</td>\n",
       "      <td>18</td>\n",
       "      <td>Yuen Long</td>\n",
       "    </tr>\n",
       "    <tr>\n",
       "      <th>52480</th>\n",
       "      <td>2014/4/9</td>\n",
       "      <td></td>\n",
       "      <td></td>\n",
       "      <td>38</td>\n",
       "      <td>19</td>\n",
       "      <td>Yuen Long</td>\n",
       "    </tr>\n",
       "    <tr>\n",
       "      <th>52481</th>\n",
       "      <td>2014/4/10</td>\n",
       "      <td></td>\n",
       "      <td></td>\n",
       "      <td>24</td>\n",
       "      <td>22</td>\n",
       "      <td>Yuen Long</td>\n",
       "    </tr>\n",
       "    <tr>\n",
       "      <th>52482</th>\n",
       "      <td>2014/4/11</td>\n",
       "      <td></td>\n",
       "      <td></td>\n",
       "      <td>21</td>\n",
       "      <td>22</td>\n",
       "      <td>Yuen Long</td>\n",
       "    </tr>\n",
       "    <tr>\n",
       "      <th>52483</th>\n",
       "      <td>2014/4/12</td>\n",
       "      <td></td>\n",
       "      <td></td>\n",
       "      <td>34</td>\n",
       "      <td>31</td>\n",
       "      <td>Yuen Long</td>\n",
       "    </tr>\n",
       "  </tbody>\n",
       "</table>\n",
       "<p>52484 rows × 6 columns</p>\n",
       "</div>"
      ],
      "text/plain": [
       "            date  pm25  pm10   o3  no2   district\n",
       "0      2024/11/1    71    29   17   34   Wan Chai\n",
       "1      2024/11/2    69    33   26   29   Wan Chai\n",
       "2      2024/11/3    71    46   39   32   Wan Chai\n",
       "3      2024/11/4    95    42   27   35   Wan Chai\n",
       "4      2024/11/5    94    48   34   36   Wan Chai\n",
       "...          ...   ...   ...  ...  ...        ...\n",
       "52479  2015/3/31               11   18  Yuen Long\n",
       "52480   2014/4/9               38   19  Yuen Long\n",
       "52481  2014/4/10               24   22  Yuen Long\n",
       "52482  2014/4/11               21   22  Yuen Long\n",
       "52483  2014/4/12               34   31  Yuen Long\n",
       "\n",
       "[52484 rows x 6 columns]"
      ]
     },
     "execution_count": 7,
     "metadata": {},
     "output_type": "execute_result"
    }
   ],
   "source": [
    "final_data = pd.concat(all_data, ignore_index=True)\n",
    "final_data"
   ]
  },
  {
   "cell_type": "code",
   "execution_count": 8,
   "id": "a7d43587-b2dd-4d16-a1fb-3118d8b1e15e",
   "metadata": {},
   "outputs": [],
   "source": [
    "final_data.to_csv('combined_air_quality_data.csv', index=False)"
   ]
  }
 ],
 "metadata": {
  "kernelspec": {
   "display_name": "Python 3 (ipykernel)",
   "language": "python",
   "name": "python3"
  },
  "language_info": {
   "codemirror_mode": {
    "name": "ipython",
    "version": 3
   },
   "file_extension": ".py",
   "mimetype": "text/x-python",
   "name": "python",
   "nbconvert_exporter": "python",
   "pygments_lexer": "ipython3",
   "version": "3.11.4"
  }
 },
 "nbformat": 4,
 "nbformat_minor": 5
}
